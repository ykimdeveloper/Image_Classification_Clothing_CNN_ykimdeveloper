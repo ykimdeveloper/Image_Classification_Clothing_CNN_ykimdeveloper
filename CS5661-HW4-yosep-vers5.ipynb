{
 "cells": [
  {
   "cell_type": "markdown",
   "metadata": {},
   "source": [
    "# HW 4 YOSEP KIM\n",
    "\n",
    "The accuracy is:  0.9249\n",
    "\n",
    "----------------------------------------------------------------------------------------------\n",
    "----------------------------------------------------------------------------------------------"
   ]
  },
  {
   "cell_type": "markdown",
   "metadata": {},
   "source": [
    "## Deep Convolutional Neural Networks (CNN) with Keras + TensorFlow\n",
    "----------------------------------------------------------------------------------------------\n",
    "----------------------------------------------------------------------------------------------"
   ]
  },
  {
   "cell_type": "code",
   "execution_count": 1,
   "metadata": {},
   "outputs": [
    {
     "name": "stderr",
     "output_type": "stream",
     "text": [
      "Using TensorFlow backend.\n"
     ]
    }
   ],
   "source": [
    "from keras.layers import MaxPooling2D, Convolution2D, Dense, InputLayer\n",
    "from keras.layers.normalization import BatchNormalization"
   ]
  },
  {
   "cell_type": "code",
   "execution_count": 2,
   "metadata": {
    "collapsed": true
   },
   "outputs": [],
   "source": [
    "\n",
    "# \"Sequential\" model lets us to define a stack of neural network layers\n",
    "from keras.models import Sequential\n",
    "\n",
    "# import the \"core\" layers:\n",
    "from keras.layers import Dense, Dropout, Activation, Flatten\n",
    "\n",
    "import numpy as np"
   ]
  },
  {
   "cell_type": "code",
   "execution_count": 3,
   "metadata": {
    "collapsed": true
   },
   "outputs": [],
   "source": [
    "# CNN\n",
    "from keras.layers import Convolution2D, MaxPooling2D"
   ]
  },
  {
   "cell_type": "code",
   "execution_count": 4,
   "metadata": {
    "collapsed": true
   },
   "outputs": [],
   "source": [
    "# import some utilities to transform our data\n",
    "from keras.utils import np_utils"
   ]
  },
  {
   "cell_type": "markdown",
   "metadata": {},
   "source": [
    "## Let's use the Fashion-MNIST Dataset including 60,000 28x28 grayscale images of 10 fashion categories, along with a test set of 10,000 images:\n",
    "\n",
    "0:\tT-shirt/top, \n",
    "1:\tTrouser,\n",
    "2:\tPullover,\n",
    "3:\tDress,\n",
    "4:\tCoat,\n",
    "5:\tSandal,\n",
    "6:\tShirt,\n",
    "7:\tSneaker,\n",
    "8:\tBag,\n",
    "9:\tAnkle boot "
   ]
  },
  {
   "cell_type": "code",
   "execution_count": 5,
   "metadata": {
    "collapsed": true
   },
   "outputs": [],
   "source": [
    "# Keras will download MNIST dataset for us:\n",
    "from keras.datasets import fashion_mnist\n",
    " \n",
    "# By default, the first 60k of MNIST has been defined as training and the rest as testing set: \n",
    "(X_train, y_train), (X_test, y_test) = fashion_mnist.load_data()"
   ]
  },
  {
   "cell_type": "code",
   "execution_count": 6,
   "metadata": {},
   "outputs": [
    {
     "name": "stdout",
     "output_type": "stream",
     "text": [
      "(60000, 28, 28)\n",
      "(10000, 28, 28)\n"
     ]
    }
   ],
   "source": [
    "print(X_train.shape)\n",
    "print(X_test.shape)"
   ]
  },
  {
   "cell_type": "code",
   "execution_count": 7,
   "metadata": {},
   "outputs": [
    {
     "data": {
      "image/png": "[encoded data removed]",
      "text/plain": [
       "<matplotlib.figure.Figure at 0x7fb2a997f710>"
      ]
     },
     "metadata": {},
     "output_type": "display_data"
    },
    {
     "data": {
      "image/png": "[encoded data removed]",
      "text/plain": [
       "<matplotlib.figure.Figure at 0x7fb2a478ce48>"
      ]
     },
     "metadata": {},
     "output_type": "display_data"
    },
    {
     "data": {
      "image/png": "[encoded data removed]",
      "text/plain": [
       "<matplotlib.figure.Figure at 0x7fb29eedddd8>"
      ]
     },
     "metadata": {},
     "output_type": "display_data"
    },
    {
     "data": {
      "image/png": "[encoded data removed]",
      "text/plain": [
       "<matplotlib.figure.Figure at 0x7fb29eec76a0>"
      ]
     },
     "metadata": {},
     "output_type": "display_data"
    }
   ],
   "source": [
    "%matplotlib inline\n",
    "\n",
    "import matplotlib.image as mpimg\n",
    "import matplotlib.pyplot as plt\n",
    "\n",
    "imgplot = plt.imshow(X_train[3,:,:],cmap='viridis')\n",
    "plt.show()\n",
    "imgplot = plt.imshow(X_train[16,:,:],cmap='viridis')\n",
    "plt.show()\n",
    "\n",
    "imgplot = plt.imshow(X_train[1,:,:],cmap='plasma')\n",
    "plt.show()\n",
    "imgplot = plt.imshow(X_train[9,:,:],cmap='magma')\n",
    "plt.show()"
   ]
  },
  {
   "cell_type": "code",
   "execution_count": 8,
   "metadata": {
    "collapsed": true
   },
   "outputs": [],
   "source": [
    "X_train = X_train.reshape(X_train.shape[0], 28, 28, 1)\n",
    "X_test = X_test.reshape(X_test.shape[0], 28, 28, 1)"
   ]
  },
  {
   "cell_type": "code",
   "execution_count": 9,
   "metadata": {},
   "outputs": [
    {
     "name": "stdout",
     "output_type": "stream",
     "text": [
      "(60000, 28, 28, 1)\n",
      "(10000, 28, 28, 1)\n"
     ]
    }
   ],
   "source": [
    "print(X_train.shape)\n",
    "print(X_test.shape)"
   ]
  },
  {
   "cell_type": "code",
   "execution_count": 10,
   "metadata": {
    "collapsed": true
   },
   "outputs": [],
   "source": [
    "# simply normalize the features to the range of [0,1]:\n",
    "X_train = X_train.astype('float32')\n",
    "X_test = X_test.astype('float32')\n",
    "X_train /= 255\n",
    "X_test /= 255"
   ]
  },
  {
   "cell_type": "code",
   "execution_count": 11,
   "metadata": {},
   "outputs": [
    {
     "name": "stdout",
     "output_type": "stream",
     "text": [
      "(60000,)\n",
      "[9 0 0 3 0 2 7 2 5 5]\n"
     ]
    }
   ],
   "source": [
    "# output label:\n",
    "print (y_train.shape)\n",
    "print (y_train[:10])"
   ]
  },
  {
   "cell_type": "code",
   "execution_count": 12,
   "metadata": {
    "collapsed": true
   },
   "outputs": [],
   "source": [
    "# OneHotEncoding for the output label:\n",
    "y_train = np_utils.to_categorical(y_train, 10)\n",
    "y_test = np_utils.to_categorical(y_test, 10)\n"
   ]
  },
  {
   "cell_type": "code",
   "execution_count": 13,
   "metadata": {},
   "outputs": [
    {
     "name": "stdout",
     "output_type": "stream",
     "text": [
      "(60000, 10)\n",
      "[[ 0.  0.  0.  0.  0.  0.  0.  0.  0.  1.]\n",
      " [ 1.  0.  0.  0.  0.  0.  0.  0.  0.  0.]\n",
      " [ 1.  0.  0.  0.  0.  0.  0.  0.  0.  0.]\n",
      " [ 0.  0.  0.  1.  0.  0.  0.  0.  0.  0.]\n",
      " [ 1.  0.  0.  0.  0.  0.  0.  0.  0.  0.]\n",
      " [ 0.  0.  1.  0.  0.  0.  0.  0.  0.  0.]\n",
      " [ 0.  0.  0.  0.  0.  0.  0.  1.  0.  0.]\n",
      " [ 0.  0.  1.  0.  0.  0.  0.  0.  0.  0.]\n",
      " [ 0.  0.  0.  0.  0.  1.  0.  0.  0.  0.]\n",
      " [ 0.  0.  0.  0.  0.  1.  0.  0.  0.  0.]]\n"
     ]
    }
   ],
   "source": [
    "# Label after OneHotEncoding:\n",
    "print (y_train.shape)\n",
    "print (y_train[:10])"
   ]
  },
  {
   "cell_type": "code",
   "execution_count": 16,
   "metadata": {
    "collapsed": true
   },
   "outputs": [],
   "source": [
    "from keras import backend as K, regularizers, optimizers\n",
    "\n",
    "# documentation https://faroit.github.io/keras-docs/1.2.2/layers/convolutional/"
   ]
  },
  {
   "cell_type": "markdown",
   "metadata": {},
   "source": [
    "## Define the Network Architecture (model):"
   ]
  },
  {
   "cell_type": "code",
   "execution_count": 17,
   "metadata": {
    "collapsed": true
   },
   "outputs": [],
   "source": [
    "# Declare Sequential model fro our network:\n",
    "model = Sequential()"
   ]
  },
  {
   "cell_type": "code",
   "execution_count": 18,
   "metadata": {},
   "outputs": [
    {
     "name": "stdout",
     "output_type": "stream",
     "text": [
      "(None, 26, 26, 32)\n"
     ]
    }
   ],
   "source": [
    "# CNN first layer (with 32 3x3 filter):\n",
    "model.add(Convolution2D(32, (3, 3), activation='relu', input_shape=(28,28,1)))\n",
    "print(model.output_shape) # -> (None, 26, 26, 32)\n",
    "\n",
    "# If your image batch is of N images of HxW size with C channels: \n",
    "# theano uses the NCHW ordering while tensorflow uses the NHWC ordering."
   ]
  },
  {
   "cell_type": "code",
   "execution_count": 19,
   "metadata": {
    "collapsed": true
   },
   "outputs": [],
   "source": [
    "# more hidden layers:\n",
    "model.add(Convolution2D(32, (3, 3), activation='relu'))\n",
    "model.add(MaxPooling2D(pool_size=(2,2)))\n",
    "model.add(Dropout(0.25))"
   ]
  },
  {
   "cell_type": "code",
   "execution_count": 20,
   "metadata": {
    "collapsed": true
   },
   "outputs": [],
   "source": [
    "# output Fully connected Dense layers:\n",
    "model.add(Flatten())\n",
    "model.add(Dense(128, activation='relu'))\n",
    "model.add(Dropout(0.5))\n",
    "model.add(Dense(10, activation='softmax'))"
   ]
  },
  {
   "cell_type": "markdown",
   "metadata": {},
   "source": [
    "## Compile the model:\n",
    "#### We need to compile the model and then it will be ready to train it:"
   ]
  },
  {
   "cell_type": "code",
   "execution_count": 21,
   "metadata": {},
   "outputs": [
    {
     "name": "stdout",
     "output_type": "stream",
     "text": [
      "_________________________________________________________________\n",
      "Layer (type)                 Output Shape              Param #   \n",
      "=================================================================\n",
      "conv2d_1 (Conv2D)            (None, 26, 26, 32)        320       \n",
      "_________________________________________________________________\n",
      "conv2d_2 (Conv2D)            (None, 24, 24, 32)        9248      \n",
      "_________________________________________________________________\n",
      "max_pooling2d_1 (MaxPooling2 (None, 12, 12, 32)        0         \n",
      "_________________________________________________________________\n",
      "dropout_1 (Dropout)          (None, 12, 12, 32)        0         \n",
      "_________________________________________________________________\n",
      "flatten_1 (Flatten)          (None, 4608)              0         \n",
      "_________________________________________________________________\n",
      "dense_1 (Dense)              (None, 128)               589952    \n",
      "_________________________________________________________________\n",
      "dropout_2 (Dropout)          (None, 128)               0         \n",
      "_________________________________________________________________\n",
      "dense_2 (Dense)              (None, 10)                1290      \n",
      "=================================================================\n",
      "Total params: 600,810\n",
      "Trainable params: 600,810\n",
      "Non-trainable params: 0\n",
      "_________________________________________________________________\n",
      "None\n"
     ]
    }
   ],
   "source": [
    "model.compile(loss='categorical_crossentropy',metrics=['accuracy'],\n",
    "              optimizer='adam')\n",
    "# more info about loss functions: https://keras.io/losses\n",
    "# more infor about Optimizers: https://keras.io/optimizers\n",
    "\n",
    "print(model.summary())"
   ]
  },
  {
   "cell_type": "markdown",
   "metadata": {},
   "source": [
    "## Training:"
   ]
  },
  {
   "cell_type": "code",
   "execution_count": 22,
   "metadata": {
    "scrolled": false
   },
   "outputs": [
    {
     "name": "stdout",
     "output_type": "stream",
     "text": [
      "Train on 45000 samples, validate on 15000 samples\n",
      "Epoch 1/45\n",
      "45000/45000 [==============================] - 64s 1ms/step - loss: 0.5251 - acc: 0.8142 - val_loss: 0.3237 - val_acc: 0.8819\n",
      "Epoch 2/45\n",
      "45000/45000 [==============================] - 63s 1ms/step - loss: 0.3567 - acc: 0.8717 - val_loss: 0.2870 - val_acc: 0.8935\n",
      "Epoch 3/45\n",
      "45000/45000 [==============================] - 64s 1ms/step - loss: 0.3113 - acc: 0.8858 - val_loss: 0.2620 - val_acc: 0.8989\n",
      "Epoch 4/45\n",
      "45000/45000 [==============================] - 64s 1ms/step - loss: 0.2763 - acc: 0.8984 - val_loss: 0.2414 - val_acc: 0.9100\n",
      "Epoch 5/45\n",
      "45000/45000 [==============================] - 65s 1ms/step - loss: 0.2577 - acc: 0.9043 - val_loss: 0.2387 - val_acc: 0.9130\n",
      "Epoch 6/45\n",
      "45000/45000 [==============================] - 65s 1ms/step - loss: 0.2357 - acc: 0.9130 - val_loss: 0.2302 - val_acc: 0.9141\n",
      "Epoch 7/45\n",
      "45000/45000 [==============================] - 66s 1ms/step - loss: 0.2206 - acc: 0.9181 - val_loss: 0.2423 - val_acc: 0.9113\n",
      "Epoch 8/45\n",
      "45000/45000 [==============================] - 70s 2ms/step - loss: 0.2064 - acc: 0.9224 - val_loss: 0.2310 - val_acc: 0.9159\n",
      "Epoch 9/45\n",
      "45000/45000 [==============================] - 69s 2ms/step - loss: 0.1954 - acc: 0.9264 - val_loss: 0.2282 - val_acc: 0.9201\n",
      "Epoch 10/45\n",
      "45000/45000 [==============================] - 68s 2ms/step - loss: 0.1870 - acc: 0.9297 - val_loss: 0.2241 - val_acc: 0.9213\n",
      "Epoch 11/45\n",
      "45000/45000 [==============================] - 66s 1ms/step - loss: 0.1753 - acc: 0.9339 - val_loss: 0.2260 - val_acc: 0.9200\n",
      "Epoch 12/45\n",
      "45000/45000 [==============================] - 66s 1ms/step - loss: 0.1668 - acc: 0.9365 - val_loss: 0.2222 - val_acc: 0.9233\n",
      "Epoch 13/45\n",
      "45000/45000 [==============================] - 66s 1ms/step - loss: 0.1641 - acc: 0.9380 - val_loss: 0.2291 - val_acc: 0.9207\n",
      "Epoch 14/45\n",
      "45000/45000 [==============================] - 65s 1ms/step - loss: 0.1557 - acc: 0.9414 - val_loss: 0.2281 - val_acc: 0.9233\n",
      "Epoch 15/45\n",
      "45000/45000 [==============================] - 65s 1ms/step - loss: 0.1484 - acc: 0.9436 - val_loss: 0.2364 - val_acc: 0.9249\n",
      "Epoch 16/45\n",
      "45000/45000 [==============================] - 127s 3ms/step - loss: 0.1431 - acc: 0.9458 - val_loss: 0.2388 - val_acc: 0.9225\n",
      "Epoch 17/45\n",
      "45000/45000 [==============================] - 126s 3ms/step - loss: 0.1405 - acc: 0.9460 - val_loss: 0.2299 - val_acc: 0.9263\n",
      "Epoch 18/45\n",
      "45000/45000 [==============================] - 131s 3ms/step - loss: 0.1355 - acc: 0.9488 - val_loss: 0.2378 - val_acc: 0.9251\n",
      "Epoch 19/45\n",
      "45000/45000 [==============================] - 128s 3ms/step - loss: 0.1311 - acc: 0.9499 - val_loss: 0.2482 - val_acc: 0.9251\n",
      "Epoch 20/45\n",
      "45000/45000 [==============================] - 128s 3ms/step - loss: 0.1267 - acc: 0.9524 - val_loss: 0.2376 - val_acc: 0.9275\n",
      "Epoch 21/45\n",
      "45000/45000 [==============================] - 129s 3ms/step - loss: 0.1227 - acc: 0.9535 - val_loss: 0.2489 - val_acc: 0.9257\n",
      "Epoch 22/45\n",
      "45000/45000 [==============================] - 128s 3ms/step - loss: 0.1160 - acc: 0.9559 - val_loss: 0.2583 - val_acc: 0.9269\n",
      "Epoch 23/45\n",
      "45000/45000 [==============================] - 130s 3ms/step - loss: 0.1157 - acc: 0.9559 - val_loss: 0.2533 - val_acc: 0.9227\n",
      "Epoch 24/45\n",
      "45000/45000 [==============================] - 129s 3ms/step - loss: 0.1124 - acc: 0.9572 - val_loss: 0.2547 - val_acc: 0.9261\n",
      "Epoch 25/45\n",
      "45000/45000 [==============================] - 129s 3ms/step - loss: 0.1141 - acc: 0.9563 - val_loss: 0.2438 - val_acc: 0.9274\n",
      "Epoch 26/45\n",
      "45000/45000 [==============================] - 127s 3ms/step - loss: 0.1105 - acc: 0.9584 - val_loss: 0.2528 - val_acc: 0.9289\n",
      "Epoch 27/45\n",
      "45000/45000 [==============================] - 129s 3ms/step - loss: 0.1054 - acc: 0.9599 - val_loss: 0.2713 - val_acc: 0.9264\n",
      "Epoch 28/45\n",
      "45000/45000 [==============================] - 144s 3ms/step - loss: 0.1068 - acc: 0.9601 - val_loss: 0.2683 - val_acc: 0.9253\n",
      "Epoch 29/45\n",
      "45000/45000 [==============================] - 153s 3ms/step - loss: 0.1046 - acc: 0.9606 - val_loss: 0.2468 - val_acc: 0.9272\n",
      "Epoch 30/45\n",
      "45000/45000 [==============================] - 142s 3ms/step - loss: 0.0962 - acc: 0.9626 - val_loss: 0.2741 - val_acc: 0.9272\n",
      "Epoch 31/45\n",
      "45000/45000 [==============================] - 68s 2ms/step - loss: 0.0971 - acc: 0.9630 - val_loss: 0.2787 - val_acc: 0.9264\n",
      "Epoch 32/45\n",
      "45000/45000 [==============================] - 79s 2ms/step - loss: 0.0970 - acc: 0.9637 - val_loss: 0.2900 - val_acc: 0.92810s - loss: 0.0971 - a\n",
      "Epoch 33/45\n",
      "45000/45000 [==============================] - 74s 2ms/step - loss: 0.0944 - acc: 0.9630 - val_loss: 0.2644 - val_acc: 0.9278\n",
      "Epoch 34/45\n",
      "45000/45000 [==============================] - 69s 2ms/step - loss: 0.0905 - acc: 0.9655 - val_loss: 0.2792 - val_acc: 0.9257 ac\n",
      "Epoch 35/45\n",
      "45000/45000 [==============================] - 70s 2ms/step - loss: 0.0943 - acc: 0.9638 - val_loss: 0.2799 - val_acc: 0.9259\n",
      "Epoch 36/45\n",
      "45000/45000 [==============================] - 69s 2ms/step - loss: 0.0925 - acc: 0.9650 - val_loss: 0.2885 - val_acc: 0.9262\n",
      "Epoch 37/45\n",
      "45000/45000 [==============================] - 68s 2ms/step - loss: 0.0883 - acc: 0.9672 - val_loss: 0.2896 - val_acc: 0.9267\n",
      "Epoch 38/45\n",
      "45000/45000 [==============================] - 65s 1ms/step - loss: 0.0892 - acc: 0.9668 - val_loss: 0.2930 - val_acc: 0.9277\n",
      "Epoch 39/45\n",
      "45000/45000 [==============================] - 71s 2ms/step - loss: 0.0852 - acc: 0.9674 - val_loss: 0.2837 - val_acc: 0.9245\n",
      "Epoch 40/45\n",
      "45000/45000 [==============================] - 71s 2ms/step - loss: 0.0854 - acc: 0.9675 - val_loss: 0.2980 - val_acc: 0.9268\n",
      "Epoch 41/45\n",
      "45000/45000 [==============================] - 81s 2ms/step - loss: 0.0896 - acc: 0.9661 - val_loss: 0.2962 - val_acc: 0.9253\n",
      "Epoch 42/45\n",
      "45000/45000 [==============================] - 80s 2ms/step - loss: 0.0824 - acc: 0.9692 - val_loss: 0.3098 - val_acc: 0.9260\n",
      "Epoch 43/45\n",
      "45000/45000 [==============================] - 76s 2ms/step - loss: 0.0812 - acc: 0.9693 - val_loss: 0.2828 - val_acc: 0.9273\n",
      "Epoch 44/45\n",
      "45000/45000 [==============================] - 80s 2ms/step - loss: 0.0832 - acc: 0.9686 - val_loss: 0.3054 - val_acc: 0.9273\n",
      "Epoch 45/45\n",
      "45000/45000 [==============================] - 82s 2ms/step - loss: 0.0844 - acc: 0.9690 - val_loss: 0.2905 - val_acc: 0.9267\n"
     ]
    }
   ],
   "source": [
    "history = model.fit(X_train, y_train, validation_split=0.25, batch_size=32, epochs=45, verbose=1)\n",
    "\n",
    "\n",
    "# batch_size: Integer or None. Number of samples per gradient update. \n",
    "# epochs: Number of iteration over the entire x and y data provided. \n",
    "# verbose: 0, 1, or 2. how want to see the training progress. 0 = silent, 1 = progress bar, 2 = one line per epoch.\n",
    "# validation_split: Float between 0 and 1. Fraction of the training data to be used as validation data. \n",
    "# You can add some callbacks to get a view on internal states and statistics of the model during training:\n",
    "# https://keras.io/callbacks/     "
   ]
  },
  {
   "cell_type": "code",
   "execution_count": 27,
   "metadata": {},
   "outputs": [
    {
     "name": "stdout",
     "output_type": "stream",
     "text": [
      "Train on 45000 samples, validate on 15000 samples\n",
      "Epoch 1/15\n",
      "45000/45000 [==============================] - 68s 2ms/step - loss: 0.0823 - acc: 0.9686 - val_loss: 0.2899 - val_acc: 0.9287\n",
      "Epoch 2/15\n",
      "45000/45000 [==============================] - 113s 3ms/step - loss: 0.0806 - acc: 0.9700 - val_loss: 0.2953 - val_acc: 0.9280\n",
      "Epoch 3/15\n",
      "45000/45000 [==============================] - 150s 3ms/step - loss: 0.0774 - acc: 0.9706 - val_loss: 0.3133 - val_acc: 0.9257\n",
      "Epoch 4/15\n",
      "45000/45000 [==============================] - 101s 2ms/step - loss: 0.0784 - acc: 0.9702 - val_loss: 0.3276 - val_acc: 0.9251\n",
      "Epoch 5/15\n",
      "45000/45000 [==============================] - 65s 1ms/step - loss: 0.0779 - acc: 0.9710 - val_loss: 0.3184 - val_acc: 0.9302\n",
      "Epoch 6/15\n",
      "45000/45000 [==============================] - 106s 2ms/step - loss: 0.0773 - acc: 0.9718 - val_loss: 0.3135 - val_acc: 0.9262\n",
      "Epoch 7/15\n",
      "45000/45000 [==============================] - 124s 3ms/step - loss: 0.0734 - acc: 0.9729 - val_loss: 0.3076 - val_acc: 0.9285\n",
      "Epoch 8/15\n",
      "45000/45000 [==============================] - 142s 3ms/step - loss: 0.0740 - acc: 0.9725 - val_loss: 0.3228 - val_acc: 0.9276\n",
      "Epoch 9/15\n",
      "45000/45000 [==============================] - 87s 2ms/step - loss: 0.0744 - acc: 0.9735 - val_loss: 0.3103 - val_acc: 0.9285\n",
      "Epoch 10/15\n",
      "45000/45000 [==============================] - 72s 2ms/step - loss: 0.0764 - acc: 0.9713 - val_loss: 0.2999 - val_acc: 0.9273\n",
      "Epoch 11/15\n",
      "45000/45000 [==============================] - 68s 2ms/step - loss: 0.0760 - acc: 0.9722 - val_loss: 0.3213 - val_acc: 0.9267\n",
      "Epoch 12/15\n",
      "45000/45000 [==============================] - 96s 2ms/step - loss: 0.0760 - acc: 0.9723 - val_loss: 0.3133 - val_acc: 0.9273\n",
      "Epoch 13/15\n",
      "45000/45000 [==============================] - 123s 3ms/step - loss: 0.0704 - acc: 0.9738 - val_loss: 0.3254 - val_acc: 0.9268\n",
      "Epoch 14/15\n",
      "45000/45000 [==============================] - 129s 3ms/step - loss: 0.0751 - acc: 0.9724 - val_loss: 0.3284 - val_acc: 0.9251\n",
      "Epoch 15/15\n",
      "45000/45000 [==============================] - 118s 3ms/step - loss: 0.0709 - acc: 0.9738 - val_loss: 0.3354 - val_acc: 0.9278\n"
     ]
    }
   ],
   "source": [
    "# Training with Validation:\n",
    "from keras.callbacks import EarlyStopping\n",
    "early_stopping = EarlyStopping(monitor='val_loss', patience=2)\n",
    "fitted_model = model.fit(X_train, y_train, validation_split=0.25, batch_size=32, epochs=15, verbose=1)"
   ]
  },
  {
   "cell_type": "code",
   "execution_count": 24,
   "metadata": {},
   "outputs": [
    {
     "data": {
      "text/plain": [
       "<matplotlib.legend.Legend at 0x7fb2a6525080>"
      ]
     },
     "execution_count": 24,
     "metadata": {},
     "output_type": "execute_result"
    },
    {
     "data": {
      "image/png": "[encoded data removed]",
      "text/plain": [
       "<matplotlib.figure.Figure at 0x7fb2a69e68d0>"
      ]
     },
     "metadata": {},
     "output_type": "display_data"
    },
    {
     "data": {
      "image/png": "[encoded data removed]",
      "text/plain": [
       "<matplotlib.figure.Figure at 0x7fb2a7922e48>"
      ]
     },
     "metadata": {},
     "output_type": "display_data"
    }
   ],
   "source": [
    "import matplotlib.pyplot as plt\n",
    "\n",
    "%matplotlib inline\n",
    "\n",
    "accuracy = history.history['acc']\n",
    "#val_accuracy = history.history['val_acc']\n",
    "loss = history.history['loss']\n",
    "#val_loss = history.history['val_loss']\n",
    "epochs = range(len(accuracy))\n",
    "plt.plot(epochs, accuracy, 'bo', label='Training accuracy')\n",
    "#plt.plot(epochs, val_accuracy, 'b', label='Validation accuracy')\n",
    "plt.title('Training and validation accuracy')\n",
    "plt.legend()\n",
    "plt.figure()\n",
    "plt.plot(epochs, loss, 'bo', label='Training loss')\n",
    "#plt.plot(epochs, val_loss, 'b', label='Validation loss')\n",
    "plt.title('Training and validation loss')\n",
    "plt.legend()\n",
    "# plt.show()"
   ]
  },
  {
   "cell_type": "markdown",
   "metadata": {},
   "source": [
    "## Testing: before fitting \n",
    "The accuracy is:  0.9214\n",
    "\n",
    "# After fitting accuracy"
   ]
  },
  {
   "cell_type": "code",
   "execution_count": 30,
   "metadata": {
    "collapsed": true
   },
   "outputs": [],
   "source": [
    "# test_data_shaped, test_target_shaped  \n",
    "predicted_classes = model.predict_classes(X_test)"
   ]
  },
  {
   "cell_type": "code",
   "execution_count": 31,
   "metadata": {},
   "outputs": [
    {
     "name": "stdout",
     "output_type": "stream",
     "text": [
      "10000/10000 [==============================] - 3s 270us/step\n",
      "The accuracy is:  0.9249\n"
     ]
    }
   ],
   "source": [
    "# Testing:\n",
    "score = model.evaluate(X_test, y_test, verbose=1)\n",
    "print('The accuracy is: ', score[1])"
   ]
  },
  {
   "cell_type": "code",
   "execution_count": null,
   "metadata": {
    "collapsed": true
   },
   "outputs": [],
   "source": []
  }
 ],
 "metadata": {
  "kernelspec": {
   "display_name": "Python 3",
   "language": "python",
   "name": "python3"
  },
  "language_info": {
   "codemirror_mode": {
    "name": "ipython",
    "version": 3
   },
   "file_extension": ".py",
   "mimetype": "text/x-python",
   "name": "python",
   "nbconvert_exporter": "python",
   "pygments_lexer": "ipython3",
   "version": "3.6.2"
  }
 },
 "nbformat": 4,
 "nbformat_minor": 2
}
